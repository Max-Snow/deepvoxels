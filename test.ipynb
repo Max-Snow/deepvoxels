{
 "cells": [
  {
   "cell_type": "code",
   "execution_count": 1,
   "metadata": {},
   "outputs": [],
   "source": [
    "import os\n",
    "from glob import glob\n",
    "from skimage.measure import compare_psnr\n",
    "from skimage.measure import compare_ssim\n",
    "import data_util\n",
    "import cv2\n",
    "import matplotlib.pyplot as plt\n",
    "import numpy as np"
   ]
  },
  {
   "cell_type": "code",
   "execution_count": 2,
   "metadata": {},
   "outputs": [],
   "source": [
    "all_cate = ['car', 'bench', 'sofa', 'gun', 'chair', 'table', 'light', 'ship', 'screen', 'cabinet', 'stereo', 'phone', 'plane']"
   ]
  },
  {
   "cell_type": "code",
   "execution_count": 3,
   "metadata": {},
   "outputs": [],
   "source": [
    "for cate in all_cate:\n",
    "    os.system('python run_deepvoxels.py --train_test test --data_root ~/test_dataset/'+cate+' --logging_root ~/cache --checkpoint ~/cache/logs/05_28/18-29-19_200.00_l1_weight__car_plane/model-epoch_11_iter_12000.pth --pre_ttl_num_views 8 --input_image_dims 256')"
   ]
  },
  {
   "cell_type": "code",
   "execution_count": 4,
   "metadata": {},
   "outputs": [
    {
     "name": "stderr",
     "output_type": "stream",
     "text": [
      "/opt/anaconda3/envs/deepvoxels/lib/python3.7/site-packages/skimage/util/arraycrop.py:177: FutureWarning: Using a non-tuple sequence for multidimensional indexing is deprecated; use `arr[tuple(seq)]` instead of `arr[seq]`. In the future this will be interpreted as an array index, `arr[np.array(seq)]`, which will result either in an error or a different result.\n",
      "  cropped = ar[slices]\n"
     ]
    },
    {
     "name": "stdout",
     "output_type": "stream",
     "text": [
      "car 19.277260547118207 0.8416922186763206\n",
      "bench 17.496256168852927 0.6976184066562104\n",
      "sofa 13.99854095578056 0.7879565533123903\n",
      "gun 17.24327673813722 0.9171631018358756\n",
      "chair 12.665430573732744 0.7716437169971367\n",
      "table 14.916759373035958 0.7362863198685218\n",
      "light 22.267567176349218 0.8834743949328704\n",
      "ship 22.37629043687039 0.8856071776817399\n",
      "screen 13.201747956050575 0.7229219729195958\n",
      "cabinet 19.55645987257362 0.8438905078230211\n",
      "stereo 12.928918045259797 0.6647620449195051\n",
      "phone 12.390038643209834 0.7487049920767398\n",
      "plane 24.406592702592906 0.9409128505177571\n"
     ]
    }
   ],
   "source": [
    "for cate in all_cate:\n",
    "    dir_gen = os.path.join('/home/max/cache/test_traj', cate)\n",
    "    dir_true = os.path.join('/home/max/test_dataset', cate, 'test_rgb')\n",
    "    img_gen = sorted(glob(os.path.join(dir_gen, '*.png')))\n",
    "    img_true = sorted(glob(os.path.join(dir_true, '*.png')))\n",
    "    psnr = list()\n",
    "    ssim = list()\n",
    "    for i in range(len(img_gen)):\n",
    "        true = data_util.load_img(img_true[i], square_crop=True, downsampling_order=1, target_size=[256,256])[5:-5, 5:-5]\n",
    "        gen = cv2.imread(img_gen[i], cv2.IMREAD_UNCHANGED)\n",
    "        gen = (gen/256.).astype('uint8')\n",
    "        psnr.append(compare_psnr(true, gen))\n",
    "        ssim.append(compare_ssim(true, gen, multichannel=True))\n",
    "    psnr = np.array(psnr).mean()\n",
    "    ssim = np.array(ssim).mean()\n",
    "    print(cate, psnr, ssim)"
   ]
  },
  {
   "cell_type": "code",
   "execution_count": null,
   "metadata": {},
   "outputs": [],
   "source": []
  }
 ],
 "metadata": {
  "kernelspec": {
   "display_name": "Python 3",
   "language": "python",
   "name": "python3"
  },
  "language_info": {
   "codemirror_mode": {
    "name": "ipython",
    "version": 3
   },
   "file_extension": ".py",
   "mimetype": "text/x-python",
   "name": "python",
   "nbconvert_exporter": "python",
   "pygments_lexer": "ipython3",
   "version": "3.7.2"
  }
 },
 "nbformat": 4,
 "nbformat_minor": 2
}
