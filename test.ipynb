{
 "cells": [
  {
   "cell_type": "code",
   "execution_count": 27,
   "metadata": {},
   "outputs": [],
   "source": [
    "import os\n",
    "from glob import glob\n",
    "from skimage.measure import compare_psnr\n",
    "from skimage.measure import compare_ssim\n",
    "import data_util\n",
    "import cv2\n",
    "import matplotlib.pyplot as plt\n",
    "import numpy as np"
   ]
  },
  {
   "cell_type": "code",
   "execution_count": 28,
   "metadata": {},
   "outputs": [],
   "source": [
    "all_cate = ['car', 'bench', 'sofa', 'gun', 'chair', 'table', 'light', 'ship', 'screen', 'cabinet', 'stereo', 'phone', 'plane']"
   ]
  },
  {
   "cell_type": "code",
   "execution_count": 25,
   "metadata": {},
   "outputs": [],
   "source": [
    "for cate in all_cate:\n",
    "    os.system('python run_deepvoxels.py --train_test test --data_root ~/test_dataset/'+cate+' --logging_root ~/cache --checkpoint ~/cache/logs/model-epoch_36_iter_24000.pth --pre_ttl_num_views 8 --input_image_dims 256')"
   ]
  },
  {
   "cell_type": "code",
   "execution_count": 30,
   "metadata": {},
   "outputs": [
    {
     "name": "stderr",
     "output_type": "stream",
     "text": [
      "/opt/anaconda3/envs/deepvoxels/lib/python3.7/site-packages/skimage/util/arraycrop.py:177: FutureWarning: Using a non-tuple sequence for multidimensional indexing is deprecated; use `arr[tuple(seq)]` instead of `arr[seq]`. In the future this will be interpreted as an array index, `arr[np.array(seq)]`, which will result either in an error or a different result.\n",
      "  cropped = ar[slices]\n"
     ]
    },
    {
     "name": "stdout",
     "output_type": "stream",
     "text": [
      "car 16.179326061963177 0.8290568387516872\n",
      "bench 18.074103058725274 0.6934609035529511\n",
      "sofa 15.127764536197242 0.8144763622649612\n",
      "gun 18.096979143718183 0.9190947513264264\n",
      "chair 12.578797272021147 0.7778156054472533\n",
      "table 15.060610078311127 0.7236691638371279\n",
      "light 22.104727092235677 0.8863135944287501\n",
      "ship 22.233560216422713 0.8837179832579904\n",
      "screen 14.808588919972422 0.7372221326347753\n",
      "cabinet 18.560318331288784 0.7934945785479434\n",
      "stereo 13.253964279378492 0.7163033050755286\n",
      "phone 14.188817984289207 0.7607466305384024\n",
      "plane 24.04318544738264 0.9391738642893667\n"
     ]
    }
   ],
   "source": [
    "for cate in all_cate:\n",
    "    dir_gen = os.path.join('/home/max/cache/test_traj', cate)\n",
    "    dir_true = os.path.join('/home/max/test_dataset', cate, 'test_rgb')\n",
    "    img_gen = sorted(glob(os.path.join(dir_gen, '*.png')))\n",
    "    img_true = sorted(glob(os.path.join(dir_true, '*.png')))\n",
    "    psnr = list()\n",
    "    ssim = list()\n",
    "    for i in range(len(img_gen)):\n",
    "        true = data_util.load_img(img_true[i], square_crop=True, downsampling_order=1, target_size=[256,256])[5:-5, 5:-5]\n",
    "        gen = cv2.imread(img_gen[i], cv2.IMREAD_UNCHANGED)\n",
    "        gen = (gen/256.).astype('uint8')\n",
    "        psnr.append(compare_psnr(true, gen))\n",
    "        ssim.append(compare_ssim(true, gen, multichannel=True))\n",
    "    psnr = np.array(psnr).mean()\n",
    "    ssim = np.array(ssim).mean()\n",
    "    print(cate, psnr, ssim)"
   ]
  },
  {
   "cell_type": "code",
   "execution_count": null,
   "metadata": {},
   "outputs": [],
   "source": []
  }
 ],
 "metadata": {
  "kernelspec": {
   "display_name": "Python 3",
   "language": "python",
   "name": "python3"
  },
  "language_info": {
   "codemirror_mode": {
    "name": "ipython",
    "version": 3
   },
   "file_extension": ".py",
   "mimetype": "text/x-python",
   "name": "python",
   "nbconvert_exporter": "python",
   "pygments_lexer": "ipython3",
   "version": "3.7.2"
  }
 },
 "nbformat": 4,
 "nbformat_minor": 2
}
